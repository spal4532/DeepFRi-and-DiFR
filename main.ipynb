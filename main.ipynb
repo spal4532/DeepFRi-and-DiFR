{
 "cells": [
  {
   "cell_type": "code",
   "execution_count": null,
   "metadata": {},
   "outputs": [],
   "source": [
    "import numpy as np\n",
    "import pandas as pd\n",
    "import os\n",
    "import matplotlib.pyplot as plt\n",
    "import shutil\n",
    "from datetime import datetime\n",
    "from nrt_wind.wind import read_wind_mag\n",
    "from nrt_wind.Pre_processing import create_hodogram_realFR_t_minus_24hr\n",
    "from nrt_wind.DeepFRi_test import cnn_model_fit_60_30\n",
    "from nrt_wind.Prepare_list import prepare_pre_list\n",
    "from nrt_wind.Prepare_list import boundary_finding\n",
    "from nrt_wind.DiFR_test import DiFR"
   ]
  },
  {
   "cell_type": "markdown",
   "metadata": {},
   "source": [
    "Applying DeepFRi and DiFR models on real solar wind time series and deriving list of FRs with start and end boundaries and geoeffectiveness."
   ]
  },
  {
   "cell_type": "code",
   "execution_count": null,
   "metadata": {},
   "outputs": [],
   "source": [
    "imgPath='./nrt_wind/'"
   ]
  },
  {
   "cell_type": "code",
   "execution_count": null,
   "metadata": {},
   "outputs": [],
   "source": [
    "path = os.path.join(imgPath, 'bx_by')\n",
    "isFile = os.path.isdir(path)\n",
    "if isFile==True:\n",
    "    shutil.rmtree(path)\n",
    "os.makedirs(path)\n",
    "path = os.path.join(imgPath, 'bx_bz')\n",
    "isFile = os.path.isdir(path)\n",
    "if isFile==True:\n",
    "    shutil.rmtree(path)\n",
    "os.makedirs(path)\n",
    "path = os.path.join(imgPath, 'bz_by')\n",
    "isFile = os.path.isdir(path)\n",
    "if isFile==True:\n",
    "    shutil.rmtree(path)\n",
    "os.makedirs(path)\n",
    "\n",
    "path = os.path.join(imgPath, 'concat')\n",
    "isFile = os.path.isdir(path)\n",
    "if isFile==True:\n",
    "    shutil.rmtree(path)\n",
    "os.makedirs(path)\n",
    "#####........................Start and end time during which users would like to search for FRs..........................\n",
    "st='2023-12-16 00:00:00'\n",
    "et='2023-12-16 01:00:00'\n",
    "\n",
    "#####........................Pre-processing and preparing hodograms............................................\n",
    "create_hodogram_realFR_t_minus_24hr(st,et,imgPath)\n"
   ]
  },
  {
   "cell_type": "code",
   "execution_count": null,
   "metadata": {},
   "outputs": [],
   "source": [
    "#####........................Applying DeepFRi model............................................\n",
    "input='nrt_result60_30_test.txt'\n",
    "file=imgPath+input\n",
    "cnn_model_fit_60_30(imgPath,file)\n",
    "\n",
    "#####........................Preparing List1 and List2............................................\n",
    "list1='List1.txt'\n",
    "prepare_pre_list(imgPath,input,list1)\n",
    "outfile= 'List2.txt'\n",
    "if os.path.getsize(imgPath+list1) == 0:\n",
    "        print('no FRs')\n",
    "else:  \n",
    "    df= pd.read_csv(imgPath+list1, sep=\" \", header=None)\n",
    "    list2= open(imgPath+outfile, 'w')\n",
    "    for i in df.index:\n",
    "        tstart=df[0][i]+' '+df[1][i]\n",
    "        tend=df[2][i]+' '+df[3][i]\n",
    "        boundary_finding(imgPath,input,tstart,tend,list2)\n",
    "    list2.close() \n",
    "\n",
    "#####........................Applying DiFR model and create the Final list............................................\n",
    "finallist='Final_list.txt'\n",
    "DiFR(imgPath,outfile,finallist)"
   ]
  },
  {
   "cell_type": "markdown",
   "metadata": {},
   "source": [
    "Plotting FRs embeded in solar wind data."
   ]
  },
  {
   "cell_type": "code",
   "execution_count": null,
   "metadata": {},
   "outputs": [],
   "source": [
    "st='2023-12-16 00:00:00'\n",
    "et='2023-12-16 01:00:00'\n",
    "i = 0\n",
    "npoint=256\n",
    "window_duration=24 #in hours\n",
    "l=int(np.round(window_duration*60./npoint)) \n",
    "\n",
    "tts=pd.to_datetime((datetime.strptime(str(st), \"%Y-%m-%d %H:%M:%S\")-datetime(1970, 1, 1, 0, 0)).total_seconds()-l*npoint*60.,unit='s')\n",
    "tte=pd.to_datetime((datetime.strptime(str(st), \"%Y-%m-%d %H:%M:%S\")-datetime(1970, 1, 1, 0, 0)).total_seconds()+l*npoint*60.,unit='s')\n",
    "\n",
    "df= read_wind_mag( tts,tte)\n",
    "bxn=df.Bx.rolling(window=l,step=l).mean()\n",
    "byn=df.By.rolling(window=l,step=l).mean()\n",
    "bzn=df.Bz.rolling(window=l,step=l).mean()  \n",
    "plt.figure(figsize=(10, 2))\n",
    "plt.plot(bxn,label='Bx')\n",
    "plt.plot(byn,label='By')\n",
    "plt.plot(bzn,label='Bz')\n",
    "plt.plot(np.sqrt(bxn*bxn+byn*byn+bzn*bzn),label='|B|',color='purple')\n",
    "plt.legend()\n",
    "if os.path.getsize(imgPath+'List2.txt') != 0:\n",
    "     df_list2= pd.read_csv(imgPath+'List2.txt', sep=\" \", header=None)\n",
    "     FR_s_l2=pd.to_datetime(df_list2[0][i]+' '+df_list2[1][i])\n",
    "     FR_e_l2=pd.to_datetime(df_list2[2][i]+' '+df_list2[3][i])\n",
    "     plt.axvspan(FR_s_l2,FR_e_l2, ymin=0, ymax=1, alpha=0.05, color='green')\n",
    "if os.path.getsize(imgPath+'Final_list.txt') != 0:\n",
    "     df_final= pd.read_csv(imgPath+'Final_list.txt', sep=\" \", header=None)\n",
    "     FR_s=pd.to_datetime(df_final[0][i]+' '+df_final[1][i])\n",
    "     FR_e=pd.to_datetime(df_final[2][i]+' '+df_final[3][i])\n",
    "     ##TODO:  Should there be a column '7'?? \n",
    "     ## looks like it might be equivalent to the current column '4'- AAN\n",
    "     if df_final[4][i]!=0:\n",
    "          plt.axvspan(FR_s,FR_e, ymin=0, ymax=1, alpha=0.1, color='green')\n"
   ]
  },
  {
   "cell_type": "markdown",
   "metadata": {},
   "source": [
    "This is what I see in df_final:"
   ]
  },
  {
   "cell_type": "code",
   "execution_count": null,
   "metadata": {},
   "outputs": [],
   "source": [
    "df_final"
   ]
  }
 ],
 "metadata": {
  "kernelspec": {
   "display_name": "base",
   "language": "python",
   "name": "python3"
  },
  "language_info": {
   "codemirror_mode": {
    "name": "ipython",
    "version": 3
   },
   "file_extension": ".py",
   "mimetype": "text/x-python",
   "name": "python",
   "nbconvert_exporter": "python",
   "pygments_lexer": "ipython3",
   "version": "3.10.8"
  }
 },
 "nbformat": 4,
 "nbformat_minor": 2
}
